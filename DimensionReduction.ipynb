{
  "nbformat": 4,
  "nbformat_minor": 0,
  "metadata": {
    "colab": {
      "provenance": []
    },
    "kernelspec": {
      "name": "python3",
      "display_name": "Python 3"
    }
  },
  "cells": [
    {
      "cell_type": "markdown",
      "source": [
        "---\n",
        "\n",
        "**Load essential libraries**\n",
        "\n",
        "---"
      ],
      "metadata": {
        "id": "C0o-zgcznSo2"
      }
    },
    {
      "cell_type": "code",
      "metadata": {
        "id": "9bXubpvoUUTn"
      },
      "source": [
        "import pandas as pd\n",
        "import numpy as np\n",
        "import sys\n",
        "from scipy import linalg\n",
        "\n",
        "import matplotlib.pyplot as plt\n",
        "import matplotlib.cm as cm\n",
        "plt.style.use('dark_background')\n",
        "%matplotlib inline\n",
        "\n",
        "from sklearn.decomposition import PCA\n",
        "\n",
        "from sklearn.preprocessing import StandardScaler, RobustScaler\n",
        "from sklearn.model_selection import train_test_split\n",
        "from sklearn.datasets import make_blobs\n",
        "\n",
        "from scipy.sparse import random\n",
        "from scipy import stats"
      ],
      "execution_count": null,
      "outputs": []
    },
    {
      "cell_type": "markdown",
      "source": [
        "---\n",
        "\n",
        "Mount Google Drive folder if running Google Colab\n",
        "\n",
        "---"
      ],
      "metadata": {
        "id": "EGzvIEJknYAd"
      }
    },
    {
      "cell_type": "code",
      "metadata": {
        "id": "4-QDMWggVk1A"
      },
      "source": [
        "## Mount Google drive folder if running in Colab\n",
        "if('google.colab' in sys.modules):\n",
        "    from google.colab import drive\n",
        "    drive.mount('/content/drive', force_remount = True)\n",
        "    DIR = '/content/drive/MyDrive/Colab Notebooks/MAHE/MSIS Coursework/OddSem2024MAHE'\n",
        "    DATA_DIR = DIR+'/Data/'\n",
        "else:\n",
        "    DATA_DIR = 'Data/'"
      ],
      "execution_count": null,
      "outputs": []
    },
    {
      "cell_type": "markdown",
      "source": [
        "**Data Matrix**:\n",
        "\n",
        "Patient data corresponding to 4 patients and 3 features:\n",
        "\n",
        "![Patient dataset](https://bl3302files.storage.live.com/y4mlspYO-L_1kEGpBOCUilkrcj3evQtgjGXDt6v2NgJwtsJf2OZVnwRnUht7CmW_wk8VMlMyGfhDqgRubB3pLHXAOe3r-pQ5wtYUuOqR_gsZzHWCqE2IEbhBjUZob5suLplmONyMsAjr1twDPK7eGODrKyav1dP1aX3lWx1YV0hiLvuTEZ7-GujIypTMkaSV2or?width=256&height=153&cropmode=none)\n",
        "\n",
        "**Notation**:\n",
        "\n",
        "*   $0$th patient vector $$\\mathbf{x}^{(0)} = \\begin{bmatrix}76\\\\126\\\\38.0\\end{bmatrix}$$\n",
        "* Data matrix in terms of samples: $$\\mathbf{X} = \\begin{bmatrix}\\mathbf{{x}^{(0)}}^\\mathrm{T}\\\\{{x}^{(1)}}^\\mathrm{T}\\\\{{x}^{(2)}}^\\mathrm{T}\\\\{{x}^{(3)}}^\\mathrm{T}\\end{bmatrix}.$$\n",
        "*   $0$th feature (HR) vector $$\\mathbf{x}_0 = \\begin{bmatrix}76\\\\74\\\\72\\\\78\\end{bmatrix}$$\n",
        "* Data matrix in terms of features: $$\\mathbf{X} = \\begin{bmatrix}\\mathbf{x}_0&\\mathbf{x}_1&\\mathbf{x}_2\\end{bmatrix}.$$\n",
        "\n"
      ],
      "metadata": {
        "id": "2Nwtpcbfn3Tz"
      }
    },
    {
      "cell_type": "code",
      "source": [
        "## Patient data as a dataframe\n",
        "df_patient = pd.DataFrame({'HR' : [76, 74, 72, 78],\n",
        "                           'BP' : [126, 120, 118, 136],\n",
        "                           'Temp': [38, 38, 37.5, 37]})\n",
        "\n",
        "print(df_patient)\n",
        "print('----------')\n",
        "X = np.array(df_patient) # the data matrix\n",
        "print(X)"
      ],
      "metadata": {
        "id": "Odjnvd1mn390"
      },
      "execution_count": null,
      "outputs": []
    },
    {
      "cell_type": "markdown",
      "source": [
        "---\n",
        "\n",
        "**Vector operations**:\n",
        "\n",
        "**Addition**:\n",
        "\n",
        "![Vector addition](https://bl3302files.storage.live.com/y4mMlnDRWzIoNKWynOZFhzhFNDlReoFxf7XwSeFwNWW8f1lu5ssj_SvgMAEN9BWiQ2F-meER7rD2an2n2tfDoWffBHE8aD_WBsL0LAbHxnIpZtZu6hNJAvZ88m746S_ktA9-h-oo108AQjkXQHkYrgJ5AUCpvKB2dipeNG1VfIK_38Q8fsq6OKD43adplgy0H1k?width=200&height=80&cropmode=none)\n",
        "\n",
        "**Subtraction**:\n",
        "\n",
        "![Vector subtraction](https://bl3302files.storage.live.com/y4mnQkNUONVVKJJ6dCEqV9lEuP360lE0yRumSIgl9LaQH_qBqjgI9wvUd64xJ-UNIjR7wJXZyaXZ_kf1_gAB9sXjMWaMxWhSnX6zcyvVtTrCDeO1MNWzj3A1YqI5YLALK-CGCSMurNV938QLH3C2u1-BE8_addFYSeO7DmCKz5TdWGf7qtC8M9rRN26RMqpk8iu?width=200&height=80&cropmode=none)\n",
        "\n",
        "**Scalar mutiplication**:\n",
        "\n",
        "![Scalar-vector multiplication](https://bl3302files.storage.live.com/y4mYNwLMmuKRl3sNDSo0yyXYs0KFw1LBnQCU6nAgSawanlGNgLq7Bd93DQ0ojamRpGLx_PZvnsSG-6K-3TsdDctw5sm-QxnWUHSTJGalDR4JmUp27_Hf3ESAQukZ1Jk5G16ykO7H3AKmLSQxE4vVIAtMFbCnyxtsQEfpyb_SK5jIjVtjl7yoFcBDzsRDGzo5cZM?width=200&height=80&cropmode=none)\n",
        "\n",
        "**Geometric representation**:\n",
        "\n",
        "![Vector subtraction](https://1drv.ms/i/s!AjTcbXuSD3I3hst3c2-ys_ybfdgK1A?embed=1&width=256)\n",
        "\n",
        "---"
      ],
      "metadata": {
        "id": "KvSrGeEC95iE"
      }
    },
    {
      "cell_type": "code",
      "source": [
        "## Vector operations\n",
        "\n",
        "# Difference between the 0th and 1st patient\n",
        "print(X[0]-X[1])\n",
        "\n",
        "# Scalar-vector multiplication: convert temperature to Fahrenheit\n",
        "print((9/5)*X[:, 2]+32)\n",
        "\n",
        "# Average patient\n",
        "print((1/4)*(X[0]+X[1]+X[2]+X[3]))\n",
        "print(np.mean(X, axis = 0))"
      ],
      "metadata": {
        "id": "VeFTtBlP98Fa"
      },
      "execution_count": null,
      "outputs": []
    },
    {
      "cell_type": "markdown",
      "source": [
        "---\n",
        "\n",
        "$l_2$ norm or the geometric length of a vector denoted as $\\lVert\\mathbf{a}\\rVert$ tells us how long a vector is. In 2-dimensions, $\\lVert\\mathbf{a}\\rVert_2 = \\sqrt{a_1^2+a_2^2}$ and in $n$-dimensions, $\\lVert\\mathbf{a}\\rVert_2 = \\sqrt{a_1^2+a_2^2+\\cdots+a_n^2}.$\n",
        "\n",
        "![Vector norm](https://1drv.ms/i/s!AjTcbXuSD3I3hst4L2r4EdKcLq1DVA?embed=1&width=256)\n",
        "---"
      ],
      "metadata": {
        "id": "lgYXZaJDII3B"
      }
    },
    {
      "cell_type": "code",
      "source": [
        "a = np.array([1, 2])\n",
        "np.linalg.norm(a)"
      ],
      "metadata": {
        "id": "Ze6QKsjSIJm9"
      },
      "execution_count": null,
      "outputs": []
    },
    {
      "cell_type": "markdown",
      "source": [
        "\n",
        "---\n",
        "\n",
        "**Dot Product of Vectors**\n",
        "\n",
        "A scalar resulting from an elementwise multiplication and addition: $$\\mathbf{a}{\\color{cyan}\\cdot}\\mathbf{b} = {\\color{red}{a_1b_1}}+{\\color{green}{a_2b_2}}+\\cdots+{\\color{magenta}{a_nb_n}}$$\n",
        "\n",
        "The <font color=\"cyan\">dot</font> ${\\color{cyan}\\cdot}$ represents the computation of the dot product.\n",
        "\n",
        "---"
      ],
      "metadata": {
        "id": "YT-etkK_nkcb"
      }
    },
    {
      "cell_type": "code",
      "source": [
        "a = np.array([1, 2, 3])\n",
        "b = np.array([2, -1, 0])\n",
        "np.dot(a, b)"
      ],
      "metadata": {
        "id": "tVPMORxbnn-M"
      },
      "execution_count": null,
      "outputs": []
    },
    {
      "cell_type": "markdown",
      "source": [
        "---\n",
        "\n",
        "**Cauchy-Schwarz inequality**\n",
        "\n",
        "For any two vectors $\\mathbf{a}$ and $\\mathbf{b}$ it is always true that $$-1\\leq\\frac{\\mathbf{a}\\cdot \\mathbf{b}}{\\lVert \\mathbf{a}\\rVert_2\\lVert \\mathbf{b}\\rVert_2}\\leq 1.$$\n",
        "\n",
        "This is used to define the angle between the vectors $\\mathbf{a}$ and $\\mathbf{b}$ as follows:$$\\angle(\\mathbf{a},\\mathbf{b}) = \\cos^{-1}\\left(\\frac{\\mathbf{a}\\cdot \\mathbf{b}}{\\lVert \\mathbf{a}\\rVert_2\\lVert \\mathbf{b}\\rVert_2}\\right).$$\n",
        "\n",
        "![Angle between vectors](https://1drv.ms/i/s!AjTcbXuSD3I3hst5ofwuXeKFAdiZtw?embed=1&width=660)\n",
        "---"
      ],
      "metadata": {
        "id": "Tx6WqvqJo-Zc"
      }
    },
    {
      "cell_type": "code",
      "source": [
        "a = np.array([1, 2])\n",
        "b = np.array([2, 4])\n",
        "c = np.array([-2, 1])\n",
        "d = np.array([-1, -2])\n",
        "print(np.dot(a, b))\n",
        "print(np.dot(a, b)/(np.linalg.norm(a)*np.linalg.norm(b)))\n",
        "print(np.arccos(np.dot(a, b)/(np.linalg.norm(a)*np.linalg.norm(b))))\n",
        "print('-----')\n",
        "print(np.dot(a, c))\n",
        "print(np.dot(a, c)/(np.linalg.norm(a)*np.linalg.norm(c)))\n",
        "print(np.arccos(np.dot(a, c)/(np.linalg.norm(a)*np.linalg.norm(c))))\n",
        "print('-----')\n",
        "print(np.dot(a, d))\n",
        "print(np.dot(a, d)/(np.linalg.norm(a)*np.linalg.norm(d)))\n",
        "print(np.arccos(np.dot(a, d)/(np.linalg.norm(a)*np.linalg.norm(d))))"
      ],
      "metadata": {
        "id": "wy85IbizLfi5"
      },
      "execution_count": null,
      "outputs": []
    },
    {
      "cell_type": "markdown",
      "source": [
        "---\n",
        "\n",
        "Mean-centering, variance, and covariance\n",
        "\n",
        "---"
      ],
      "metadata": {
        "id": "ZBZRascuL6W3"
      }
    },
    {
      "cell_type": "code",
      "source": [
        "## Simulate a patient dataset\n",
        "#np.random.seed(100)\n",
        "nsamples = 100\n",
        "df = pd.DataFrame({'Heart Rate (BPM)' : np.round(np.random.normal(74, 4, nsamples))})\n",
        "df['Blood Pressure (mm Hg)'] = 1.6*df['Heart Rate (BPM)']+np.round(np.random.normal(5, 5, nsamples))\n",
        "print(df)"
      ],
      "metadata": {
        "id": "aAVASM6fo_oU"
      },
      "execution_count": null,
      "outputs": []
    },
    {
      "cell_type": "code",
      "source": [
        "df['HR Mean-Centered'] = a_mc\n",
        "df['BP Mean-Centered'] = b_mc\n",
        "df.head(5)"
      ],
      "metadata": {
        "id": "OLcQbV6OsMuN"
      },
      "execution_count": null,
      "outputs": []
    },
    {
      "cell_type": "code",
      "source": [
        "np.dot(a_mc, b_mc) # Covariance between HR and BP\n",
        "np.dot(a_mc, a_mc) # Covariance between HR and HR (variance of HR)"
      ],
      "metadata": {
        "id": "DCRK2CtT8HbX"
      },
      "execution_count": null,
      "outputs": []
    },
    {
      "cell_type": "code",
      "source": [
        "# Vector of heart rate and blood pressure\n",
        "a = df['Heart Rate (BPM)']\n",
        "b = df['Blood Pressure (mm Hg)']\n",
        "\n",
        "# Mean-centered heart rate and blood pressure vectors\n",
        "a_mc = a - np.mean(a)\n",
        "b_mc = b - np.mean(b)\n",
        "# Covariance between a and b\n",
        "print(np.dot(a_mc, b_mc))\n",
        "# Correlation coefficient\n",
        "print(np.dot(a_mc, b_mc) / (np.linalg.norm(a_mc) * np.linalg.norm(b_mc)))\n",
        "print('---------------------')\n",
        "\n",
        "# Variance of the heart rates (BPM^2)\n",
        "print(np.mean((a-np.mean(a))**2))\n",
        "# Standard deviation of the heart rates (BPM)\n",
        "print(np.sqrt(np.mean((a-np.mean(a))**2)))\n",
        "print('---------------------')\n",
        "\n",
        "# Scatter plot between heart rate and blood pressure vectors\n",
        "fig, ax = plt.subplots(1, 1, figsize = (4, 4))\n",
        "ax.scatter(a, b, marker = 'o', color = 'blue', s = 4.0)\n",
        "#ax.scatter(a_mc, b_mc, marker = 'o', color = 'red', s = 4.0)\n",
        "ax.set_xlabel('Heart Rate (BPM)')\n",
        "ax.set_ylabel('Blood Pressure (mm Hg)')\n",
        "ax.set_title('Heart Rate vs. Blood Pressure');"
      ],
      "metadata": {
        "id": "_V2iYc7LpUbh"
      },
      "execution_count": null,
      "outputs": []
    },
    {
      "cell_type": "markdown",
      "source": [
        "---\n",
        "\n",
        "**Projection of vectors and its relationship to dot product**\n",
        "\n",
        "The projection of a sample vector $\\mathbf{x}^{(i)}$ along the direction specified by a vector $\\mathbf{v}$ is intuitively a measure of how much of sample $\\mathbf{x}^{(i)}$ is contained along the direction given by $v\\mathbf{v}.$\n",
        "\n",
        "![Vector projection](https://onedrive.live.com/embed?resid=37720F927B6DDC34%21100196&authkey=%21AIQr3fMEJZChQNI&width=256)\n",
        "\n",
        "We can derive an expression for the projection $\\text{proj}_\\mathbf{v}\\left(\\mathbf{x}^{(i)} \\right )$ as follows:\n",
        "\n",
        "$\\begin{align*}\n",
        "\\begin{cases}\\text{proj}_\\mathbf{v}\\left(\\mathbf{x}^{(i)} \\right )\n",
        " &= c\\mathbf{v}, \\text{for some unknown constant }c \\text{ (why?)}\\\\\\mathbf{y}&=\\mathbf{x}^{(i)}-\\text{proj}_\\mathbf{v}\\left(\\mathbf{x}^{(i)} \\right)\\text{ (why?)}\\\\\\mathbf{y}\\cdot \\mathbf{v} &= 0\\text{ (why?)}\\end{cases}\n",
        "\\end{align*}$\n",
        "$\\begin{align*}\\Rightarrow\\left(\\mathbf{x}^{(i)}-\\text{proj}_\\mathbf{v}\\left(\\mathbf{x}^{(i)} \\right)\\right)\\cdot \\mathbf{v} &= 0\\\\\\Rightarrow \\left(\\mathbf{x}^{(i)}-c\\mathbf{v} \\right )\\cdot \\mathbf{v} &=0\\\\\\Rightarrow \\mathbf{x}^{(i)}\\cdot \\mathbf{v}-c(\\mathbf{v}\\cdot \\mathbf{v})&=0\\\\\\Rightarrow c &=\\dfrac{\\mathbf{x}^{(i)}\\cdot \\mathbf{v}}{\\mathbf{v}\\cdot \\mathbf{v}}\\\\\\Rightarrow \\text{proj}_\\mathbf{v}\\left(\\mathbf{x}^{(i)} \\right ) &= c\\mathbf{v} = \\left(\\dfrac{\\mathbf{x}^{(i)}\\cdot \\mathbf{v}}{\\mathbf{v}\\cdot \\mathbf{v}}\\right)\\mathbf{v} = \\left(\\dfrac{\\mathbf{x}^{(i)}\\cdot v}{\\lVert \\mathbf{v}\\rVert^2}\\right)\\mathbf{v} \\\\&= \\underbrace{\\left(\\dfrac{\\mathbf{x}^{(i)}\\cdot \\mathbf{v}}{\\lVert \\mathbf{v}\\rVert}\\right)}_{\\text{shadow length}}\\,\\underbrace{\\dfrac{\\mathbf{v}}{\\lVert \\mathbf{v}\\rVert}}_{\\text{direction}}. \\end{align*}$\n",
        "\n",
        "---"
      ],
      "metadata": {
        "id": "C6xSd4hyr0ti"
      }
    },
    {
      "cell_type": "code",
      "source": [
        "## Scalar projection of 0th patient onto a direction v\n",
        "print(X[0])\n",
        "v = np.array([1, 0, 0])\n",
        "print(np.dot(X[0], v) / np.linalg.norm(v))\n",
        "v = np.array([0, 1, 0])\n",
        "print(np.dot(X[0], v) / np.linalg.norm(v))\n",
        "v = np.array([1, 1, 1])\n",
        "print(np.dot(X[0], v) / np.linalg.norm(v))\n",
        "v = np.array([-1, -1, -1])\n",
        "print(np.dot(X[0], v) / np.linalg.norm(v))"
      ],
      "metadata": {
        "id": "ODKXD_zEVYf4"
      },
      "execution_count": null,
      "outputs": []
    },
    {
      "cell_type": "markdown",
      "source": [
        "---\n",
        "\n",
        "A matrix-vector product is simply a sequence of dot products of the rows of matrix (seen as vectors) with the vector:\n",
        "\n",
        "![Matrix-vector product](https://1drv.ms/i/s!AjTcbXuSD3I3hst6C_XOhdee1oi59A?embed=1&width=660)\n",
        "\n",
        "This can be used to calculate the projection of all patients in matrix $\\mathbf{X}$ onto a direction $\\mathbf{v}.$\n",
        "\n",
        "---"
      ],
      "metadata": {
        "id": "nUXiOVLTQE0L"
      }
    },
    {
      "cell_type": "code",
      "source": [
        "## Scalar projection of all patients onto a direction v\n",
        "v = np.array([1, 0, 0])\n",
        "print((1/np.linalg.norm(v)) * np.dot(X, v))\n",
        "v = np.array([0, 1, 0])\n",
        "print((1/np.linalg.norm(v)) * np.dot(X, v))\n",
        "v = np.array([1, 1, 1])\n",
        "print((1/np.linalg.norm(v)) * np.dot(X, v))\n",
        "v = np.array([-1, -1, -1])\n",
        "print((1/np.linalg.norm(v)) * np.dot(X, v))"
      ],
      "metadata": {
        "id": "hGzRCudzWrjk"
      },
      "execution_count": null,
      "outputs": []
    },
    {
      "cell_type": "markdown",
      "source": [
        "---\n",
        "\n",
        "Load food-texture data\n",
        "\n",
        "---"
      ],
      "metadata": {
        "id": "wAW4l69QsTza"
      }
    },
    {
      "cell_type": "code",
      "source": [
        "## Load data\n",
        "FILE = DATA_DIR + 'food-texture.csv'\n",
        "df_food = pd.read_csv(FILE, index_col = 0)\n",
        "df_food.head()"
      ],
      "metadata": {
        "id": "Io6fXPHqsNFJ"
      },
      "execution_count": null,
      "outputs": []
    },
    {
      "cell_type": "markdown",
      "source": [
        "---\n",
        "\n",
        "Add a new column called \"Crispylevel\" to dataframe based on low (<= 11) or high (> 11) Crispy values\n",
        "\n",
        "---"
      ],
      "metadata": {
        "id": "cn76nUzW0hKR"
      }
    },
    {
      "cell_type": "code",
      "source": [
        "df_food['Crispylevel'] = df_food['Crispy'].apply(lambda x: 'low' if x <= 10 else 'high')\n",
        "df_food.head(5)"
      ],
      "metadata": {
        "id": "KfdLPe1u0yiq"
      },
      "execution_count": null,
      "outputs": []
    },
    {
      "cell_type": "code",
      "source": [
        "df_food.dtypes"
      ],
      "metadata": {
        "id": "wy1GKs-aFYc-"
      },
      "execution_count": null,
      "outputs": []
    },
    {
      "cell_type": "code",
      "source": [
        "## Create a list of continuous and categorical column names\n",
        "continuous_cols = ['Oil', 'Density', 'Fracture', 'Hardness']\n",
        "categorical_cols = ['Crispy', 'Crispylevel']\n",
        "\n",
        "# Typecasting columns to correct types\n",
        "df_food[categorical_cols] = df_food[categorical_cols].astype('category')\n",
        "df_food[continuous_cols] = df_food[continuous_cols].astype('float64')\n",
        "\n",
        "## Print dataframe column types\n",
        "df_food.dtypes"
      ],
      "metadata": {
        "id": "99ebX4RCswUV"
      },
      "execution_count": null,
      "outputs": []
    },
    {
      "cell_type": "markdown",
      "source": [
        "---\n",
        "\n",
        "Principal component analysis (PCA) of the dataset. Here we reduce the dimensionality to one.\n",
        "\n",
        "---"
      ],
      "metadata": {
        "id": "AzO98OkKtunl"
      }
    },
    {
      "cell_type": "code",
      "source": [
        "df_food[continuous_cols]"
      ],
      "metadata": {
        "id": "_PBTs7tGGLLH"
      },
      "execution_count": null,
      "outputs": []
    },
    {
      "cell_type": "code",
      "source": [
        "pca = PCA(n_components = 1)\n",
        "np.sum(np.var(pca.fit_transform(X), axis = 0))/np.sum(np.var(X, axis = 0))"
      ],
      "metadata": {
        "id": "DXAWqU6bHDUL"
      },
      "execution_count": null,
      "outputs": []
    },
    {
      "cell_type": "code",
      "source": [
        "# numpy array of data corresponding to continuous columns\n",
        "X = np.array(df_food[continuous_cols])\n",
        "\n",
        "# Create and fit PCA object\n",
        "pca = PCA(n_components = 1)\n",
        "pca.fit(X)\n",
        "\n",
        "# Print principal components\n",
        "print(pca.components_)\n",
        "\n",
        "# Print explained variance\n",
        "print(pca.explained_variance_)"
      ],
      "metadata": {
        "id": "A5x0syMhs6xt"
      },
      "execution_count": null,
      "outputs": []
    },
    {
      "cell_type": "markdown",
      "source": [
        "---\n",
        "\n",
        "Project all samples on to the direction of the first principal component vector\n",
        "\n",
        "---"
      ],
      "metadata": {
        "id": "oWx_DR6Q813r"
      }
    },
    {
      "cell_type": "code",
      "source": [
        "# Get the first principal component vector\n",
        "v = pca.components_.flatten()\n",
        "print(v)\n",
        "print('--------------')\n",
        "\n",
        "# Print the norm of the first principal component vector\n",
        "print(np.linalg.norm(v))\n",
        "print('--------------')\n",
        "\n",
        "# Project all samples on to the direction of the first principal component vector\n",
        "X_projected = np.dot(X, v) / np.linalg.norm(v)\n",
        "# Variance of the projected samples\n",
        "print(np.var(X_projected))"
      ],
      "metadata": {
        "id": "ZTEHq5TvQXeU"
      },
      "execution_count": null,
      "outputs": []
    },
    {
      "cell_type": "markdown",
      "source": [
        "---\n",
        "\n",
        "Plot the projections of the data on to the directions of several vectors and observe how the projected data is distributed in comparison to the projection on to the first principal direction.\n",
        "\n",
        "---"
      ],
      "metadata": {
        "id": "BLmE-qYx_jT7"
      }
    },
    {
      "cell_type": "code",
      "source": [
        "# The vectors along which the data is projected form the columns of a matrix\n",
        "V = np.vstack((v, np.array([1, 1, 1, 1]),  np.array([1, -1, 1, -1]), np.array([1, 0, 1, 1]))).T\n",
        "print(V)\n",
        "print('--------------')\n",
        "\n",
        "# The projected versions of the samples are the columns of the matrix-matrix product XV\n",
        "X_projected = np.dot(X, V) / np.linalg.norm(V, axis = 0)\n",
        "\n",
        "# The variance of the projected samples on to each direction\n",
        "# Note which direction results in the largest variance\n",
        "print(np.var(X_projected, axis = 0))\n",
        "print('--------------')\n",
        "\n",
        "# Plot the projected versions of the samples\n",
        "# Note which projection shows the largest variance in data\n",
        "fig, ax = plt.subplots(1, 1, figsize = (6, 4))\n",
        "fig.tight_layout(pad = 4.0)\n",
        "ax.scatter(X_projected[:, 0], np.zeros(len(X_projected[:, 0])), s = 10, label = 'v = first principal component vector')\n",
        "ax.scatter(X_projected[:, 1], np.zeros(len(X_projected[:, 1])), s = 10, label = 'v = [1, 1, 1, 1]')\n",
        "ax.scatter(X_projected[:, 2], np.zeros(len(X_projected[:, 2])), s = 10, label = 'v = [1, -1, 1, -1]')\n",
        "ax.scatter(X_projected[:, 3], np.zeros(len(X_projected[:, 3])), s = 10, label = 'v = [1, 0, 1, 1]')\n",
        "ax.legend(loc='upper right');"
      ],
      "metadata": {
        "id": "duxIhJdY_j2Q"
      },
      "execution_count": null,
      "outputs": []
    },
    {
      "cell_type": "markdown",
      "source": [
        "---\n",
        "\n",
        "Standardize data and repeat PCA with one component\n",
        "\n",
        "---"
      ],
      "metadata": {
        "id": "4JXsTYBGSCX0"
      }
    },
    {
      "cell_type": "code",
      "source": [
        "# numpy array of data corresponding to continuous columns\n",
        "sc = StandardScaler()\n",
        "X = sc.fit_transform(np.array(df_food[continuous_cols]))\n",
        "\n",
        "# Create and fit PCA object\n",
        "pca = PCA(n_components = 4)\n",
        "pca.fit(X)\n",
        "\n",
        "# Print principal components\n",
        "print(pca.components_)\n",
        "\n",
        "# Print explained variance\n",
        "print(pca.explained_variance_)"
      ],
      "metadata": {
        "id": "Qg7JHqNrSGGP"
      },
      "execution_count": null,
      "outputs": []
    },
    {
      "cell_type": "code",
      "source": [
        "np.cumsum(pca.explained_variance_)/np.sum(pca.explained_variance_)"
      ],
      "metadata": {
        "id": "wbpYoU49KyD_"
      },
      "execution_count": null,
      "outputs": []
    },
    {
      "cell_type": "markdown",
      "source": [
        "---\n",
        "\n",
        "PCA with two components\n",
        "\n",
        "---"
      ],
      "metadata": {
        "id": "rb-jfuv9SUpG"
      }
    },
    {
      "cell_type": "code",
      "source": [
        "# Create and fit PCA object\n",
        "pca = PCA(n_components = 2)\n",
        "pca.fit(X)\n",
        "\n",
        "# Print principal components\n",
        "print(pca.components_)\n",
        "\n",
        "# Print explained variance\n",
        "print(pca.explained_variance_)"
      ],
      "metadata": {
        "id": "CYP7Cd9WSYKU"
      },
      "execution_count": null,
      "outputs": []
    },
    {
      "cell_type": "markdown",
      "source": [
        "---\n",
        "\n",
        "PCA with four components\n",
        "\n",
        "---"
      ],
      "metadata": {
        "id": "Qd6nFHqTSgpv"
      }
    },
    {
      "cell_type": "code",
      "source": [
        "# Create and fit PCA object\n",
        "pca = PCA(n_components = 4)\n",
        "pca.fit(X)\n",
        "\n",
        "# Print principal components\n",
        "print(pca.components_)\n",
        "\n",
        "# Print explained variance\n",
        "print(pca.explained_variance_)"
      ],
      "metadata": {
        "id": "DdtC12UhSihK"
      },
      "execution_count": null,
      "outputs": []
    },
    {
      "cell_type": "markdown",
      "source": [
        "---\n",
        "\n",
        "Fit a PCA model for the dataset considering only two features: (1) Density (2) Hardness"
      ],
      "metadata": {
        "id": "p0yaZFcX2wrL"
      }
    },
    {
      "cell_type": "code",
      "source": [
        "# Create and fit PCA object\n",
        "pca = PCA(n_components = 2)\n",
        "pca.fit(X[:, -2:])\n",
        "\n",
        "# Print principal components\n",
        "print(pca.components_)\n",
        "\n",
        "# Print explained variance\n",
        "print(pca.explained_variance_)"
      ],
      "metadata": {
        "id": "iu8F-GPe3JBC"
      },
      "execution_count": null,
      "outputs": []
    },
    {
      "cell_type": "code",
      "source": [
        "## Scatter plot of density and hardness along with the component vectors\n",
        "fig, ax = plt.subplots(1, 1, figsize = (4, 4))\n",
        "fig.tight_layout(pad = 4.0)\n",
        "ax.scatter(X[:, -2], X[:, 1], s = 4.0, alpha = 0.2, color = 'red')\n",
        "arrowprops = dict(arrowstyle = '->', linewidth = 2, shrinkA = 0, shrinkB = 0)\n",
        "ax.annotate('', xy = (pca.components_[0, 0], pca.components_[1, 0]), xytext = (0, 0), arrowprops = arrowprops)\n",
        "ax.annotate('', xy = (pca.components_[0, 1], pca.components_[1, 1]), xytext = (0, 0), arrowprops = arrowprops)"
      ],
      "metadata": {
        "id": "TIeHykZzTBXc"
      },
      "execution_count": null,
      "outputs": []
    },
    {
      "cell_type": "code",
      "source": [],
      "metadata": {
        "id": "3A9hxBymOQYE"
      },
      "execution_count": null,
      "outputs": []
    },
    {
      "cell_type": "code",
      "source": [
        "pca.components_[1, 0]"
      ],
      "metadata": {
        "id": "RvYLBXJ85sJw"
      },
      "execution_count": null,
      "outputs": []
    }
  ]
}
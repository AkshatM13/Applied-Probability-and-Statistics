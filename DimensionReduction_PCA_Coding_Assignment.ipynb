{
  "cells": [
    {
      "cell_type": "markdown",
      "metadata": {
        "id": "C0o-zgcznSo2"
      },
      "source": [
        "---\n",
        "\n",
        "**Load essential libraries**\n",
        "\n",
        "---"
      ]
    },
    {
      "cell_type": "code",
      "execution_count": 1,
      "metadata": {
        "id": "9bXubpvoUUTn"
      },
      "outputs": [],
      "source": [
        "import pandas as pd\n",
        "import numpy as np\n",
        "np.set_printoptions(precision = 2, suppress = True)\n",
        "import sys\n",
        "from scipy import linalg\n",
        "\n",
        "import matplotlib.pyplot as plt\n",
        "import matplotlib.cm as cm\n",
        "plt.style.use('dark_background')\n",
        "%matplotlib inline\n",
        "\n",
        "from sklearn.decomposition import PCA\n",
        "\n",
        "from sklearn.preprocessing import StandardScaler, RobustScaler\n",
        "from sklearn.model_selection import train_test_split\n",
        "\n",
        "from scipy.sparse import random\n",
        "from scipy import stats"
      ]
    },
    {
      "cell_type": "markdown",
      "metadata": {
        "id": "EGzvIEJknYAd"
      },
      "source": [
        "---\n",
        "\n",
        "Mount Google Drive folder if running Google Colab\n",
        "\n",
        "---"
      ]
    },
    {
      "cell_type": "markdown",
      "metadata": {
        "id": "wAW4l69QsTza"
      },
      "source": [
        "---\n",
        "\n",
        "Load ICU data\n",
        "\n",
        "---"
      ]
    },
    {
      "cell_type": "code",
      "execution_count": 3,
      "metadata": {
        "id": "Io6fXPHqsNFJ"
      },
      "outputs": [
        {
          "data": {
            "text/html": [
              "<div>\n",
              "<style scoped>\n",
              "    .dataframe tbody tr th:only-of-type {\n",
              "        vertical-align: middle;\n",
              "    }\n",
              "\n",
              "    .dataframe tbody tr th {\n",
              "        vertical-align: top;\n",
              "    }\n",
              "\n",
              "    .dataframe thead th {\n",
              "        text-align: right;\n",
              "    }\n",
              "</style>\n",
              "<table border=\"1\" class=\"dataframe\">\n",
              "  <thead>\n",
              "    <tr style=\"text-align: right;\">\n",
              "      <th></th>\n",
              "      <th>Length_of_stay</th>\n",
              "      <th>In-hospital_death</th>\n",
              "      <th>Age</th>\n",
              "      <th>Gender</th>\n",
              "      <th>Height</th>\n",
              "      <th>DiasABP_first</th>\n",
              "      <th>Glucose_first</th>\n",
              "      <th>HR_first</th>\n",
              "      <th>Temp_first</th>\n",
              "      <th>PaCO2_first</th>\n",
              "      <th>PaO2_first</th>\n",
              "      <th>Platelets_first</th>\n",
              "      <th>WBC_first</th>\n",
              "      <th>Weight</th>\n",
              "      <th>MechVent</th>\n",
              "    </tr>\n",
              "  </thead>\n",
              "  <tbody>\n",
              "    <tr>\n",
              "      <th>0</th>\n",
              "      <td>8</td>\n",
              "      <td>No</td>\n",
              "      <td>76</td>\n",
              "      <td>Male</td>\n",
              "      <td>175.3</td>\n",
              "      <td>67</td>\n",
              "      <td>105</td>\n",
              "      <td>88.0</td>\n",
              "      <td>35.2</td>\n",
              "      <td>34</td>\n",
              "      <td>344</td>\n",
              "      <td>164</td>\n",
              "      <td>7.4</td>\n",
              "      <td>80.6</td>\n",
              "      <td>Yes</td>\n",
              "    </tr>\n",
              "    <tr>\n",
              "      <th>1</th>\n",
              "      <td>6</td>\n",
              "      <td>Yes</td>\n",
              "      <td>78</td>\n",
              "      <td>Female</td>\n",
              "      <td>162.6</td>\n",
              "      <td>50</td>\n",
              "      <td>132</td>\n",
              "      <td>111.0</td>\n",
              "      <td>38.0</td>\n",
              "      <td>30</td>\n",
              "      <td>128</td>\n",
              "      <td>91</td>\n",
              "      <td>16.1</td>\n",
              "      <td>48.4</td>\n",
              "      <td>Yes</td>\n",
              "    </tr>\n",
              "    <tr>\n",
              "      <th>2</th>\n",
              "      <td>8</td>\n",
              "      <td>No</td>\n",
              "      <td>74</td>\n",
              "      <td>Male</td>\n",
              "      <td>175.3</td>\n",
              "      <td>51</td>\n",
              "      <td>106</td>\n",
              "      <td>67.0</td>\n",
              "      <td>34.8</td>\n",
              "      <td>42</td>\n",
              "      <td>486</td>\n",
              "      <td>141</td>\n",
              "      <td>9.0</td>\n",
              "      <td>66.1</td>\n",
              "      <td>Yes</td>\n",
              "    </tr>\n",
              "    <tr>\n",
              "      <th>3</th>\n",
              "      <td>7</td>\n",
              "      <td>No</td>\n",
              "      <td>71</td>\n",
              "      <td>Female</td>\n",
              "      <td>157.5</td>\n",
              "      <td>60</td>\n",
              "      <td>132</td>\n",
              "      <td>84.0</td>\n",
              "      <td>35.5</td>\n",
              "      <td>35</td>\n",
              "      <td>245</td>\n",
              "      <td>120</td>\n",
              "      <td>13.7</td>\n",
              "      <td>55.8</td>\n",
              "      <td>Yes</td>\n",
              "    </tr>\n",
              "    <tr>\n",
              "      <th>4</th>\n",
              "      <td>11</td>\n",
              "      <td>No</td>\n",
              "      <td>78</td>\n",
              "      <td>Male</td>\n",
              "      <td>167.6</td>\n",
              "      <td>57</td>\n",
              "      <td>90</td>\n",
              "      <td>73.0</td>\n",
              "      <td>34.7</td>\n",
              "      <td>40</td>\n",
              "      <td>281</td>\n",
              "      <td>121</td>\n",
              "      <td>12.5</td>\n",
              "      <td>72.4</td>\n",
              "      <td>Yes</td>\n",
              "    </tr>\n",
              "  </tbody>\n",
              "</table>\n",
              "</div>"
            ],
            "text/plain": [
              "   Length_of_stay In-hospital_death  Age  Gender  Height  DiasABP_first  \\\n",
              "0               8                No   76    Male   175.3             67   \n",
              "1               6               Yes   78  Female   162.6             50   \n",
              "2               8                No   74    Male   175.3             51   \n",
              "3               7                No   71  Female   157.5             60   \n",
              "4              11                No   78    Male   167.6             57   \n",
              "\n",
              "   Glucose_first  HR_first  Temp_first  PaCO2_first  PaO2_first  \\\n",
              "0            105      88.0        35.2           34         344   \n",
              "1            132     111.0        38.0           30         128   \n",
              "2            106      67.0        34.8           42         486   \n",
              "3            132      84.0        35.5           35         245   \n",
              "4             90      73.0        34.7           40         281   \n",
              "\n",
              "   Platelets_first  WBC_first  Weight MechVent  \n",
              "0              164        7.4    80.6      Yes  \n",
              "1               91       16.1    48.4      Yes  \n",
              "2              141        9.0    66.1      Yes  \n",
              "3              120       13.7    55.8      Yes  \n",
              "4              121       12.5    72.4      Yes  "
            ]
          },
          "execution_count": 3,
          "metadata": {},
          "output_type": "execute_result"
        }
      ],
      "source": [
        "## Load data\n",
        "FILE = 'D:\\MSIS\\APS\\Data\\ICU_Complete.csv'\n",
        "dfICU = pd.read_csv(FILE)\n",
        "dfICU.head()"
      ]
    },
    {
      "cell_type": "markdown",
      "metadata": {
        "id": "3ftTQ4hNOEv6"
      },
      "source": [
        "---\n",
        "\n",
        "Create a list of categorical and continuous features\n",
        "\n",
        "---"
      ]
    },
    {
      "cell_type": "code",
      "execution_count": 4,
      "metadata": {
        "id": "99ebX4RCswUV"
      },
      "outputs": [
        {
          "data": {
            "text/plain": [
              "Length_of_stay         int64\n",
              "In-hospital_death     object\n",
              "Age                    int64\n",
              "Gender                object\n",
              "Height               float64\n",
              "DiasABP_first          int64\n",
              "Glucose_first          int64\n",
              "HR_first             float64\n",
              "Temp_first           float64\n",
              "PaCO2_first            int64\n",
              "PaO2_first             int64\n",
              "Platelets_first        int64\n",
              "WBC_first            float64\n",
              "Weight               float64\n",
              "MechVent              object\n",
              "dtype: object"
            ]
          },
          "execution_count": 4,
          "metadata": {},
          "output_type": "execute_result"
        }
      ],
      "source": [
        "## Create a list of categorical and continuous features\n",
        "categorical_features = ['In-hospital_death', 'Gender', 'MechVent']\n",
        "continuous_features = dfICU.columns[~dfICU.columns.isin(categorical_features)].to_list()\n",
        "dfICU.dtypes"
      ]
    },
    {
      "cell_type": "markdown",
      "metadata": {
        "id": "q-M9wLofPHBq"
      },
      "source": [
        "---\n",
        "\n",
        "Convert categorical features to the categorical type\n",
        "\n",
        "---"
      ]
    },
    {
      "cell_type": "code",
      "execution_count": 5,
      "metadata": {
        "id": "hhxMY6j_PM5M"
      },
      "outputs": [
        {
          "data": {
            "text/plain": [
              "Length_of_stay          int64\n",
              "In-hospital_death    category\n",
              "Age                     int64\n",
              "Gender               category\n",
              "Height                float64\n",
              "DiasABP_first           int64\n",
              "Glucose_first           int64\n",
              "HR_first              float64\n",
              "Temp_first            float64\n",
              "PaCO2_first             int64\n",
              "PaO2_first              int64\n",
              "Platelets_first         int64\n",
              "WBC_first             float64\n",
              "Weight                float64\n",
              "MechVent             category\n",
              "dtype: object"
            ]
          },
          "execution_count": 5,
          "metadata": {},
          "output_type": "execute_result"
        }
      ],
      "source": [
        "dfICU[categorical_features] = dfICU[categorical_features].astype('category')\n",
        "dfICU.dtypes"
      ]
    },
    {
      "cell_type": "markdown",
      "metadata": {
        "id": "AzO98OkKtunl"
      },
      "source": [
        "---\n",
        "\n",
        "$\\color{yellow}{\\textbf{Complete this}}$\n",
        "\n",
        "Principal component analysis (PCA) of the dataset using the continuous features. For that, extract the dataframe comprising the continuous features.\n",
        "\n",
        "---"
      ]
    },
    {
      "cell_type": "code",
      "execution_count": 10,
      "metadata": {
        "id": "_PBTs7tGGLLH"
      },
      "outputs": [
        {
          "data": {
            "text/html": [
              "<div>\n",
              "<style scoped>\n",
              "    .dataframe tbody tr th:only-of-type {\n",
              "        vertical-align: middle;\n",
              "    }\n",
              "\n",
              "    .dataframe tbody tr th {\n",
              "        vertical-align: top;\n",
              "    }\n",
              "\n",
              "    .dataframe thead th {\n",
              "        text-align: right;\n",
              "    }\n",
              "</style>\n",
              "<table border=\"1\" class=\"dataframe\">\n",
              "  <thead>\n",
              "    <tr style=\"text-align: right;\">\n",
              "      <th></th>\n",
              "      <th>Length_of_stay</th>\n",
              "      <th>Age</th>\n",
              "      <th>Height</th>\n",
              "      <th>DiasABP_first</th>\n",
              "      <th>Glucose_first</th>\n",
              "      <th>HR_first</th>\n",
              "      <th>Temp_first</th>\n",
              "      <th>PaCO2_first</th>\n",
              "      <th>PaO2_first</th>\n",
              "      <th>Platelets_first</th>\n",
              "      <th>WBC_first</th>\n",
              "      <th>Weight</th>\n",
              "    </tr>\n",
              "  </thead>\n",
              "  <tbody>\n",
              "    <tr>\n",
              "      <th>0</th>\n",
              "      <td>8</td>\n",
              "      <td>76</td>\n",
              "      <td>175.3</td>\n",
              "      <td>67</td>\n",
              "      <td>105</td>\n",
              "      <td>88.0</td>\n",
              "      <td>35.2</td>\n",
              "      <td>34</td>\n",
              "      <td>344</td>\n",
              "      <td>164</td>\n",
              "      <td>7.4</td>\n",
              "      <td>80.6</td>\n",
              "    </tr>\n",
              "    <tr>\n",
              "      <th>1</th>\n",
              "      <td>6</td>\n",
              "      <td>78</td>\n",
              "      <td>162.6</td>\n",
              "      <td>50</td>\n",
              "      <td>132</td>\n",
              "      <td>111.0</td>\n",
              "      <td>38.0</td>\n",
              "      <td>30</td>\n",
              "      <td>128</td>\n",
              "      <td>91</td>\n",
              "      <td>16.1</td>\n",
              "      <td>48.4</td>\n",
              "    </tr>\n",
              "    <tr>\n",
              "      <th>2</th>\n",
              "      <td>8</td>\n",
              "      <td>74</td>\n",
              "      <td>175.3</td>\n",
              "      <td>51</td>\n",
              "      <td>106</td>\n",
              "      <td>67.0</td>\n",
              "      <td>34.8</td>\n",
              "      <td>42</td>\n",
              "      <td>486</td>\n",
              "      <td>141</td>\n",
              "      <td>9.0</td>\n",
              "      <td>66.1</td>\n",
              "    </tr>\n",
              "    <tr>\n",
              "      <th>3</th>\n",
              "      <td>7</td>\n",
              "      <td>71</td>\n",
              "      <td>157.5</td>\n",
              "      <td>60</td>\n",
              "      <td>132</td>\n",
              "      <td>84.0</td>\n",
              "      <td>35.5</td>\n",
              "      <td>35</td>\n",
              "      <td>245</td>\n",
              "      <td>120</td>\n",
              "      <td>13.7</td>\n",
              "      <td>55.8</td>\n",
              "    </tr>\n",
              "    <tr>\n",
              "      <th>4</th>\n",
              "      <td>11</td>\n",
              "      <td>78</td>\n",
              "      <td>167.6</td>\n",
              "      <td>57</td>\n",
              "      <td>90</td>\n",
              "      <td>73.0</td>\n",
              "      <td>34.7</td>\n",
              "      <td>40</td>\n",
              "      <td>281</td>\n",
              "      <td>121</td>\n",
              "      <td>12.5</td>\n",
              "      <td>72.4</td>\n",
              "    </tr>\n",
              "    <tr>\n",
              "      <th>5</th>\n",
              "      <td>5</td>\n",
              "      <td>40</td>\n",
              "      <td>165.1</td>\n",
              "      <td>58</td>\n",
              "      <td>114</td>\n",
              "      <td>79.0</td>\n",
              "      <td>35.7</td>\n",
              "      <td>86</td>\n",
              "      <td>368</td>\n",
              "      <td>209</td>\n",
              "      <td>13.0</td>\n",
              "      <td>90.7</td>\n",
              "    </tr>\n",
              "    <tr>\n",
              "      <th>6</th>\n",
              "      <td>7</td>\n",
              "      <td>58</td>\n",
              "      <td>188.0</td>\n",
              "      <td>65</td>\n",
              "      <td>213</td>\n",
              "      <td>119.0</td>\n",
              "      <td>36.8</td>\n",
              "      <td>46</td>\n",
              "      <td>328</td>\n",
              "      <td>244</td>\n",
              "      <td>22.2</td>\n",
              "      <td>106.0</td>\n",
              "    </tr>\n",
              "    <tr>\n",
              "      <th>7</th>\n",
              "      <td>20</td>\n",
              "      <td>46</td>\n",
              "      <td>152.4</td>\n",
              "      <td>71</td>\n",
              "      <td>163</td>\n",
              "      <td>80.0</td>\n",
              "      <td>36.4</td>\n",
              "      <td>48</td>\n",
              "      <td>168</td>\n",
              "      <td>505</td>\n",
              "      <td>22.1</td>\n",
              "      <td>88.6</td>\n",
              "    </tr>\n",
              "    <tr>\n",
              "      <th>8</th>\n",
              "      <td>16</td>\n",
              "      <td>66</td>\n",
              "      <td>167.6</td>\n",
              "      <td>58</td>\n",
              "      <td>270</td>\n",
              "      <td>84.0</td>\n",
              "      <td>37.6</td>\n",
              "      <td>34</td>\n",
              "      <td>155</td>\n",
              "      <td>124</td>\n",
              "      <td>9.1</td>\n",
              "      <td>80.0</td>\n",
              "    </tr>\n",
              "    <tr>\n",
              "      <th>9</th>\n",
              "      <td>14</td>\n",
              "      <td>78</td>\n",
              "      <td>170.2</td>\n",
              "      <td>57</td>\n",
              "      <td>127</td>\n",
              "      <td>95.0</td>\n",
              "      <td>35.0</td>\n",
              "      <td>47</td>\n",
              "      <td>415</td>\n",
              "      <td>90</td>\n",
              "      <td>2.2</td>\n",
              "      <td>61.3</td>\n",
              "    </tr>\n",
              "  </tbody>\n",
              "</table>\n",
              "</div>"
            ],
            "text/plain": [
              "   Length_of_stay  Age  Height  DiasABP_first  Glucose_first  HR_first  \\\n",
              "0               8   76   175.3             67            105      88.0   \n",
              "1               6   78   162.6             50            132     111.0   \n",
              "2               8   74   175.3             51            106      67.0   \n",
              "3               7   71   157.5             60            132      84.0   \n",
              "4              11   78   167.6             57             90      73.0   \n",
              "5               5   40   165.1             58            114      79.0   \n",
              "6               7   58   188.0             65            213     119.0   \n",
              "7              20   46   152.4             71            163      80.0   \n",
              "8              16   66   167.6             58            270      84.0   \n",
              "9              14   78   170.2             57            127      95.0   \n",
              "\n",
              "   Temp_first  PaCO2_first  PaO2_first  Platelets_first  WBC_first  Weight  \n",
              "0        35.2           34         344              164        7.4    80.6  \n",
              "1        38.0           30         128               91       16.1    48.4  \n",
              "2        34.8           42         486              141        9.0    66.1  \n",
              "3        35.5           35         245              120       13.7    55.8  \n",
              "4        34.7           40         281              121       12.5    72.4  \n",
              "5        35.7           86         368              209       13.0    90.7  \n",
              "6        36.8           46         328              244       22.2   106.0  \n",
              "7        36.4           48         168              505       22.1    88.6  \n",
              "8        37.6           34         155              124        9.1    80.0  \n",
              "9        35.0           47         415               90        2.2    61.3  "
            ]
          },
          "execution_count": 10,
          "metadata": {},
          "output_type": "execute_result"
        }
      ],
      "source": [
        "## Extract dataframe comprising the continuous features\n",
        "dfICU_continuous =dfICU[continuous_features]\n",
        "dfICU_continuous.head(10)"
      ]
    },
    {
      "cell_type": "markdown",
      "metadata": {
        "id": "41pPvuehRTee"
      },
      "source": [
        "---\n",
        "\n",
        "$\\color{yellow}{\\textbf{Complete this}}$\n",
        "\n",
        "Make a scatter plot between heart rate and Temperature\n",
        "\n",
        "---"
      ]
    },
    {
      "cell_type": "code",
      "execution_count": 20,
      "metadata": {
        "id": "ZeOnG5FRRgFJ"
      },
      "outputs": [
        {
          "data": {
            "image/png": "[encoded data removed]",
            "text/plain": [
              "<Figure size 400x400 with 1 Axes>"
            ]
          },
          "metadata": {},
          "output_type": "display_data"
        }
      ],
      "source": [
        "## Scatter plot between heart rate and temperature\n",
        "fig, ax = plt.subplots(1, 1, figsize = (4, 4))\n",
        "fig.tight_layout(pad = 4.0)\n",
        "ax.scatter(dfICU_continuous['HR_first'], dfICU_continuous['Temp_first'], s = 2.0, color = 'red')\n",
        "ax.set_xlabel('Heart Rate (BPM)', fontsize = 12)\n",
        "ax.set_ylabel('Temperature (Celsius)', fontsize = 12)\n",
        "ax.set_title('Heart Rate vs. Temperature', fontsize = 14);"
      ]
    },
    {
      "cell_type": "markdown",
      "metadata": {
        "id": "NL8FXyHDPwsD"
      },
      "source": [
        "---\n",
        "\n",
        "$\\color{yellow}{\\textbf{Complete this}}$\n",
        "\n",
        "Calculate the variance of heart rates from scratch and using the in-built function in numpy\n",
        "\n",
        "\n",
        "---"
      ]
    },
    {
      "cell_type": "code",
      "execution_count": 12,
      "metadata": {
        "id": "LdVsY_JZo_GE"
      },
      "outputs": [
        {
          "name": "stdout",
          "output_type": "stream",
          "text": [
            "342.51247099682314\n",
            "342.51247099682314\n"
          ]
        }
      ],
      "source": [
        "## Variance of heart rates\n",
        "print(np.mean((dfICU_continuous['HR_first']-np.mean(dfICU_continuous['HR_first']))**2))\n",
        "print(np.var(dfICU_continuous['HR_first']))"
      ]
    },
    {
      "cell_type": "markdown",
      "metadata": {
        "id": "UBHR18c7Q-V1"
      },
      "source": [
        "---\n",
        "\n",
        "$\\color{yellow}{\\textbf{Complete this}}$\n",
        "\n",
        "Calculate the variance of temperatures from scratch and using the in-built function in numpy\n",
        "\n",
        "\n",
        "---"
      ]
    },
    {
      "cell_type": "code",
      "execution_count": 13,
      "metadata": {
        "id": "DxgY-xWORB3r"
      },
      "outputs": [
        {
          "name": "stdout",
          "output_type": "stream",
          "text": [
            "1.0801301886129595\n"
          ]
        }
      ],
      "source": [
        "## Variance of temperatures\n",
        "print(np.var(dfICU_continuous['Temp_first']))"
      ]
    },
    {
      "cell_type": "markdown",
      "metadata": {
        "id": "iafN6eBaQTk1"
      },
      "source": [
        "---\n",
        "\n",
        "$\\color{yellow}{\\textbf{Complete this}}$\n",
        "\n",
        "Calculate the covariance between heart rate and temperature from scratch and using the in-built function in numpy\n",
        "\n",
        "\n",
        "---"
      ]
    },
    {
      "cell_type": "code",
      "execution_count": 31,
      "metadata": {
        "id": "nBbtWcHxpjUH"
      },
      "outputs": [
        {
          "name": "stdout",
          "output_type": "stream",
          "text": [
            "4.879632290311694\n",
            "[[342.66   4.88]\n",
            " [  4.88   1.08]]\n"
          ]
        }
      ],
      "source": [
        "## Covariance between heart rate and temp\n",
        "# Calculate the means\n",
        "mean_hr = np.mean(dfICU_continuous['HR_first'])\n",
        "mean_temp = np.mean(dfICU_continuous['Temp_first'])\n",
        "\n",
        "# Calculate the covariance\n",
        "covariance = np.sum((dfICU_continuous['HR_first'] - mean_hr) * (dfICU_continuous['Temp_first'] - mean_temp)) / (dfICU_continuous.shape[0] - 1)\n",
        "\n",
        "print(covariance)\n",
        "\n",
        "print(np.cov(dfICU_continuous['HR_first'], dfICU_continuous['Temp_first']))"
      ]
    },
    {
      "cell_type": "markdown",
      "metadata": {},
      "source": [
        "Interpretation\n",
        "Variance: The diagonal elements represent the variance of each variable. Variance measures how much the values of a variable deviate from the mean of that variable.\n",
        "\n",
        "342.66 indicates that HR_first has a high variance, meaning the heart rate values are spread out over a wide range.\n",
        "1.08 indicates that Temp_first has a low variance, meaning the temperature values are more tightly clustered around the mean.\n",
        "Covariance: The off-diagonal elements represent the covariance between the two variables. Covariance measures how much two variables change together.\n",
        "\n",
        "4.88 indicates a positive covariance between HR_first and Temp_first, meaning that as HR_first increases, Temp_first tends to increase as well, and vice versa."
      ]
    },
    {
      "cell_type": "markdown",
      "metadata": {
        "id": "zDfsbrYWSoZK"
      },
      "source": [
        "---\n",
        "\n",
        "$\\color{yellow}{\\textbf{Complete this}}$\n",
        "\n",
        "Calculate the correlation between heart rate and Temperature using the in-built function in numpy\n",
        "\n",
        "\n",
        "---"
      ]
    },
    {
      "cell_type": "code",
      "execution_count": 32,
      "metadata": {
        "id": "YtrvCvzLSum-"
      },
      "outputs": [
        {
          "name": "stdout",
          "output_type": "stream",
          "text": [
            "[[1.   0.25]\n",
            " [0.25 1.  ]]\n"
          ]
        }
      ],
      "source": [
        "## Correlation between heart rate and temperature using the in-built function in numpy\n",
        "print(np.corrcoef(dfICU_continuous['HR_first'], dfICU_continuous['Temp_first']))"
      ]
    },
    {
      "cell_type": "markdown",
      "metadata": {},
      "source": [
        "Correlation: The correlation coefficient measures the strength and direction of the linear relationship between two variables. It ranges from -1 to 1.\n",
        "1.0: A correlation of 1 indicates a perfect positive linear relationship.\n",
        "0.25: A correlation of 0.25 indicates a weak positive linear relationship between HR_first and Temp_first. This means that as HR_first increases, Temp_first tends to increase slightly, and vice versa."
      ]
    },
    {
      "cell_type": "markdown",
      "metadata": {},
      "source": [
        "Interpretation:\n",
        "\n",
        "Covariance: Harder to interpret due to dependency on units.\n",
        "Correlation: Easier to interpret, ranges from -1 to 1.\n"
      ]
    },
    {
      "cell_type": "markdown",
      "metadata": {},
      "source": [
        "---\n",
        "\n",
        "$\\color{yellow}{\\textbf{Complete this}}$\n",
        "\n",
        "Create a matrix comprising the standardized values of the continuous features\n",
        "\n",
        "\n",
        "---"
      ]
    },
    {
      "cell_type": "code",
      "execution_count": 56,
      "metadata": {},
      "outputs": [
        {
          "name": "stdout",
          "output_type": "stream",
          "text": [
            "[[ 0.68  0.    0.43 ... -0.29 -0.81 -0.27]\n",
            " [ 0.81 -0.05 -0.82 ... -0.99  0.41 -1.65]\n",
            " [ 0.55  0.   -0.75 ... -0.51 -0.59 -0.89]\n",
            " ...\n",
            " [ 0.81  0.03 -0.23 ... -0.87  0.95  0.08]\n",
            " [ 1.6   0.01 -0.82 ...  1.32  1.99  0.  ]\n",
            " [ 0.29 -0.1  -0.01 ...  0.32  0.22 -0.38]]\n"
          ]
        }
      ],
      "source": [
        "sc = StandardScaler()\n",
        "dfICU_continuous_final=dfICU_continuous.drop('Length_of_stay',axis=1)\n",
        "\n",
        "X=sc.fit_transform(dfICU_continuous_final)\n",
        "print(X)"
      ]
    },
    {
      "cell_type": "markdown",
      "metadata": {
        "id": "73axU4w7Vb8T"
      },
      "source": [
        "---\n",
        "\n",
        "$\\color{yellow}{\\textbf{Complete this}}$\n",
        "\n",
        "Create a matrix comprising the standardized values of the continuous features\n",
        "\n",
        "\n",
        "---"
      ]
    },
    {
      "cell_type": "code",
      "execution_count": 33,
      "metadata": {
        "id": "d_m2mXdWVhK6"
      },
      "outputs": [
        {
          "name": "stdout",
          "output_type": "stream",
          "text": [
            "[[-0.54  0.68  0.   ... -0.29 -0.81 -0.27]\n",
            " [-0.7   0.81 -0.05 ... -0.99  0.41 -1.65]\n",
            " [-0.54  0.55  0.   ... -0.51 -0.59 -0.89]\n",
            " ...\n",
            " [-0.7   0.81  0.03 ... -0.87  0.95  0.08]\n",
            " [-0.38  1.6   0.01 ...  1.32  1.99  0.  ]\n",
            " [ 0.35  0.29 -0.1  ...  0.32  0.22 -0.38]]\n"
          ]
        }
      ],
      "source": [
        "## Standardized continuous features\n",
        "# sc = StandardScaler()\n",
        "# X = sc.fit_transform(dfICU_continuous)\n",
        "# print(X)"
      ]
    },
    {
      "cell_type": "markdown",
      "metadata": {
        "id": "qnK980QhU28n"
      },
      "source": [
        "---\n",
        "\n",
        "$\\color{yellow}{\\textbf{Complete this}}$\n",
        "\n",
        "Perform PCA with one component and rank the features in terms of the magnitude of the PCA loadings\n",
        "\n",
        "---"
      ]
    },
    {
      "cell_type": "code",
      "execution_count": 57,
      "metadata": {
        "id": "rWKxemZUw9rI"
      },
      "outputs": [
        {
          "name": "stdout",
          "output_type": "stream",
          "text": [
            "[[-1.57]\n",
            " [ 0.07]\n",
            " [-2.81]\n",
            " ...\n",
            " [-0.37]\n",
            " [ 1.1 ]\n",
            " [-0.15]]\n",
            "[[-0.35  0.04  0.22  0.18  0.42  0.36  0.21 -0.4   0.38  0.3   0.22]]\n",
            "[1.95]\n"
          ]
        }
      ],
      "source": [
        "## Create and fit PCA object\n",
        "pca = PCA(n_components = 1)\n",
        "print(pca.fit_transform(X))\n",
        "\n",
        "# Print principal components\n",
        "print(pca.components_ )  #first principal component direction pc-1\n",
        "\n",
        "# Print explained variance\n",
        "print(pca.explained_variance_)  #praaojected on pc-1 direction"
      ]
    },
    {
      "cell_type": "code",
      "execution_count": 45,
      "metadata": {},
      "outputs": [
        {
          "data": {
            "text/html": [
              "<div>\n",
              "<style scoped>\n",
              "    .dataframe tbody tr th:only-of-type {\n",
              "        vertical-align: middle;\n",
              "    }\n",
              "\n",
              "    .dataframe tbody tr th {\n",
              "        vertical-align: top;\n",
              "    }\n",
              "\n",
              "    .dataframe thead th {\n",
              "        text-align: right;\n",
              "    }\n",
              "</style>\n",
              "<table border=\"1\" class=\"dataframe\">\n",
              "  <thead>\n",
              "    <tr style=\"text-align: right;\">\n",
              "      <th></th>\n",
              "      <th>Age</th>\n",
              "      <th>Height</th>\n",
              "      <th>DiasABP_first</th>\n",
              "      <th>Glucose_first</th>\n",
              "      <th>HR_first</th>\n",
              "      <th>Temp_first</th>\n",
              "      <th>PaCO2_first</th>\n",
              "      <th>PaO2_first</th>\n",
              "      <th>Platelets_first</th>\n",
              "      <th>WBC_first</th>\n",
              "      <th>Weight</th>\n",
              "    </tr>\n",
              "  </thead>\n",
              "  <tbody>\n",
              "    <tr>\n",
              "      <th>0</th>\n",
              "      <td>76</td>\n",
              "      <td>175.3</td>\n",
              "      <td>67</td>\n",
              "      <td>105</td>\n",
              "      <td>88.0</td>\n",
              "      <td>35.2</td>\n",
              "      <td>34</td>\n",
              "      <td>344</td>\n",
              "      <td>164</td>\n",
              "      <td>7.4</td>\n",
              "      <td>80.6</td>\n",
              "    </tr>\n",
              "    <tr>\n",
              "      <th>1</th>\n",
              "      <td>78</td>\n",
              "      <td>162.6</td>\n",
              "      <td>50</td>\n",
              "      <td>132</td>\n",
              "      <td>111.0</td>\n",
              "      <td>38.0</td>\n",
              "      <td>30</td>\n",
              "      <td>128</td>\n",
              "      <td>91</td>\n",
              "      <td>16.1</td>\n",
              "      <td>48.4</td>\n",
              "    </tr>\n",
              "    <tr>\n",
              "      <th>2</th>\n",
              "      <td>74</td>\n",
              "      <td>175.3</td>\n",
              "      <td>51</td>\n",
              "      <td>106</td>\n",
              "      <td>67.0</td>\n",
              "      <td>34.8</td>\n",
              "      <td>42</td>\n",
              "      <td>486</td>\n",
              "      <td>141</td>\n",
              "      <td>9.0</td>\n",
              "      <td>66.1</td>\n",
              "    </tr>\n",
              "    <tr>\n",
              "      <th>3</th>\n",
              "      <td>71</td>\n",
              "      <td>157.5</td>\n",
              "      <td>60</td>\n",
              "      <td>132</td>\n",
              "      <td>84.0</td>\n",
              "      <td>35.5</td>\n",
              "      <td>35</td>\n",
              "      <td>245</td>\n",
              "      <td>120</td>\n",
              "      <td>13.7</td>\n",
              "      <td>55.8</td>\n",
              "    </tr>\n",
              "    <tr>\n",
              "      <th>4</th>\n",
              "      <td>78</td>\n",
              "      <td>167.6</td>\n",
              "      <td>57</td>\n",
              "      <td>90</td>\n",
              "      <td>73.0</td>\n",
              "      <td>34.7</td>\n",
              "      <td>40</td>\n",
              "      <td>281</td>\n",
              "      <td>121</td>\n",
              "      <td>12.5</td>\n",
              "      <td>72.4</td>\n",
              "    </tr>\n",
              "  </tbody>\n",
              "</table>\n",
              "</div>"
            ],
            "text/plain": [
              "   Age  Height  DiasABP_first  Glucose_first  HR_first  Temp_first  \\\n",
              "0   76   175.3             67            105      88.0        35.2   \n",
              "1   78   162.6             50            132     111.0        38.0   \n",
              "2   74   175.3             51            106      67.0        34.8   \n",
              "3   71   157.5             60            132      84.0        35.5   \n",
              "4   78   167.6             57             90      73.0        34.7   \n",
              "\n",
              "   PaCO2_first  PaO2_first  Platelets_first  WBC_first  Weight  \n",
              "0           34         344              164        7.4    80.6  \n",
              "1           30         128               91       16.1    48.4  \n",
              "2           42         486              141        9.0    66.1  \n",
              "3           35         245              120       13.7    55.8  \n",
              "4           40         281              121       12.5    72.4  "
            ]
          },
          "execution_count": 45,
          "metadata": {},
          "output_type": "execute_result"
        }
      ],
      "source": [
        "dfICU_continuous_final.head()"
      ]
    },
    {
      "cell_type": "markdown",
      "metadata": {
        "id": "ZMxvEbaLV99V"
      },
      "source": [
        "---\n",
        "\n",
        "$\\color{yellow}{\\textbf{Complete this}}$\n",
        "\n",
        "Project the 0th sample onto the PC-1 direction\n",
        "\n",
        "---"
      ]
    },
    {
      "cell_type": "code",
      "execution_count": 58,
      "metadata": {
        "id": "5LkA0vuc045j"
      },
      "outputs": [
        {
          "data": {
            "text/plain": [
              "array([-1.57,  0.07, -2.81, ..., -0.37,  1.1 , -0.15])"
            ]
          },
          "execution_count": 58,
          "metadata": {},
          "output_type": "execute_result"
        }
      ],
      "source": [
        "## Project the 0th sample onto the PC-1 direction\n",
        "np.dot(X,pca.components_[0] )"
      ]
    },
    {
      "cell_type": "markdown",
      "metadata": {
        "id": "Zk6Iar1DWzHo"
      },
      "source": [
        "---\n",
        "\n",
        "$\\color{yellow}{\\textbf{Complete this}}$\n",
        "\n",
        "Calculate the variance of the samples projected onto the PC-1 direction\n",
        "\n",
        "---"
      ]
    },
    {
      "cell_type": "code",
      "execution_count": 59,
      "metadata": {
        "id": "Y8O8c5KdWzdu"
      },
      "outputs": [
        {
          "data": {
            "text/plain": [
              "np.float64(1.9464946276425341)"
            ]
          },
          "execution_count": 59,
          "metadata": {},
          "output_type": "execute_result"
        }
      ],
      "source": [
        "## Calculate the variance of the samples projected onto the PC-1 direction\n",
        "np.var(pca.fit_transform(X))"
      ]
    },
    {
      "cell_type": "markdown",
      "metadata": {
        "id": "rb-jfuv9SUpG"
      },
      "source": [
        "---\n",
        "\n",
        "$\\color{yellow}{\\textbf{Complete this}}$\n",
        "\n",
        "Perform PCA with two components\n",
        "\n",
        "---"
      ]
    },
    {
      "cell_type": "code",
      "execution_count": 60,
      "metadata": {
        "id": "CYP7Cd9WSYKU"
      },
      "outputs": [
        {
          "name": "stdout",
          "output_type": "stream",
          "text": [
            "[[-0.35  0.04  0.22  0.18  0.42  0.36  0.21 -0.4   0.38  0.3   0.22]\n",
            " [ 0.46  0.01 -0.37  0.16 -0.02  0.01 -0.23 -0.15  0.43  0.44 -0.41]]\n",
            "[1.95 1.32]\n"
          ]
        }
      ],
      "source": [
        "# Create and fit PCA object\n",
        "pca = PCA(n_components=2)\n",
        "pca.fit_transform(X)\n",
        "\n",
        "# Print principal components\n",
        "print(pca.components_)\n",
        "\n",
        "# Print explained variance\n",
        "print(pca.explained_variance_)"
      ]
    },
    {
      "cell_type": "markdown",
      "metadata": {
        "id": "UAy1zWNyYDJY"
      },
      "source": [
        "---\n",
        "\n",
        "$\\color{yellow}{\\textbf{Complete this}}$\n",
        "\n",
        "Calculate the proportion of variance explained by projecting on to\n",
        "PC-1 and onto both PC-1 and PC-2 directions\n",
        "\n",
        "---"
      ]
    },
    {
      "cell_type": "code",
      "execution_count": 65,
      "metadata": {
        "id": "T8IzdTurYEeK"
      },
      "outputs": [
        {
          "name": "stdout",
          "output_type": "stream",
          "text": [
            "[ 1.95  3.26  4.39  5.44  6.44  7.4   8.27  9.08  9.79 10.46 11.  ]\n"
          ]
        },
        {
          "data": {
            "text/plain": [
              "array([0.18, 0.3 , 0.4 , 0.49, 0.59, 0.67, 0.75, 0.83, 0.89, 0.95, 1.  ])"
            ]
          },
          "execution_count": 65,
          "metadata": {},
          "output_type": "execute_result"
        }
      ],
      "source": [
        "## Calculate the proportion of variance explained by projecting on to\n",
        "## PC-1 and onto both PC-1 and PC-2 directions\n",
        "print(np.cumsum(pca.explained_variance_))\n",
        "np.cumsum(pca.explained_variance_)/np.sum(pca.explained_variance_)"
      ]
    },
    {
      "cell_type": "markdown",
      "metadata": {
        "id": "dVZu__VxZOVq"
      },
      "source": [
        "---\n",
        "\n",
        "$\\color{yellow}{\\textbf{Complete this}}$\n",
        "\n",
        "Perform PCA with all components and select the number of PCs such that we are able to explain at least 75% of the total variance in the data\n",
        "\n",
        "---"
      ]
    },
    {
      "cell_type": "code",
      "execution_count": 61,
      "metadata": {
        "id": "uTYGODm4ZZ9-"
      },
      "outputs": [
        {
          "name": "stdout",
          "output_type": "stream",
          "text": [
            "[[-0.35  0.04  0.22  0.18  0.42  0.36  0.21 -0.4   0.38  0.3   0.22]\n",
            " [ 0.46  0.01 -0.37  0.16 -0.02  0.01 -0.23 -0.15  0.43  0.44 -0.41]\n",
            " [ 0.17  0.04 -0.32  0.09 -0.29 -0.33  0.61 -0.06  0.09  0.19  0.5 ]\n",
            " [-0.06 -0.46  0.39  0.61 -0.15 -0.39 -0.23  0.06  0.07  0.11  0.09]\n",
            " [-0.15  0.8   0.23  0.11  0.03 -0.34 -0.1   0.3   0.12  0.21 -0.04]\n",
            " [ 0.23  0.35 -0.06  0.59  0.    0.13  0.07 -0.39 -0.21 -0.5  -0.08]\n",
            " [-0.07 -0.06 -0.47  0.32  0.54  0.05 -0.12  0.37 -0.38  0.2   0.19]\n",
            " [ 0.11 -0.14  0.18 -0.03  0.43 -0.35  0.56  0.   -0.13  0.02 -0.54]\n",
            " [ 0.47  0.08  0.32 -0.24  0.2  -0.14 -0.24 -0.38 -0.43  0.31  0.3 ]\n",
            " [ 0.49  0.01  0.37  0.13 -0.05  0.51  0.24  0.52  0.06  0.06  0.09]\n",
            " [ 0.28 -0.05 -0.01 -0.13  0.45 -0.27 -0.16  0.11  0.51 -0.49  0.3 ]]\n",
            "[1.95 1.32 1.12 1.05 1.   0.96 0.87 0.82 0.7  0.67 0.55]\n"
          ]
        }
      ],
      "source": [
        "## Perform PCA with all components and select the number of PCs such that\n",
        "## we are able to explain at least 75% of the total variance in the data\n",
        "# Create and fit PCA object\n",
        "pca = PCA(n_components=11)\n",
        "pca.fit_transform(X)\n",
        "\n",
        "# Print principal components\n",
        "print(pca.components_)\n",
        "\n",
        "# Print explained variance\n",
        "print(pca.explained_variance_)"
      ]
    },
    {
      "cell_type": "code",
      "execution_count": 68,
      "metadata": {},
      "outputs": [
        {
          "data": {
            "text/plain": [
              "array([[-1.57, -0.26, -0.53, ...,  0.43, -0.25, -0.24],\n",
              "       [ 0.07,  1.49, -1.98, ..., -0.99,  0.71,  0.96],\n",
              "       [-2.81,  0.03,  0.43, ...,  0.57, -0.65,  0.03],\n",
              "       ...,\n",
              "       [-0.37,  0.37, -0.62, ...,  0.13, -0.79,  1.52],\n",
              "       [ 1.1 ,  2.89,  0.03, ..., -0.46, -0.49, -0.05],\n",
              "       [-0.15,  0.9 , -0.71, ..., -0.64, -0.05, -1.25]])"
            ]
          },
          "execution_count": 68,
          "metadata": {},
          "output_type": "execute_result"
        }
      ],
      "source": [
        "pca = PCA(n_components=7)\n",
        "pca.fit_transform(X)"
      ]
    },
    {
      "cell_type": "markdown",
      "metadata": {
        "id": "p0yaZFcX2wrL"
      },
      "source": [
        "---\n",
        "\n",
        "$\\color{yellow}{\\textbf{Complete this}}$\n",
        "\n",
        "\n",
        "Fit a PCA model for the dataset considering only two features: (1) Heart Rate (2) Temperature\n",
        "\n",
        "---"
      ]
    },
    {
      "cell_type": "code",
      "execution_count": 66,
      "metadata": {
        "id": "iu8F-GPe3JBC"
      },
      "outputs": [
        {
          "name": "stdout",
          "output_type": "stream",
          "text": [
            "[[ 0.71  0.71]\n",
            " [ 0.71 -0.71]]\n",
            "[1.25 0.75]\n"
          ]
        }
      ],
      "source": [
        "# Select the two features\n",
        "features = ['HR_first', 'Temp_first']\n",
        "dfICU_two_features = dfICU[features]\n",
        "\n",
        "# Standardize the features\n",
        "scaler = StandardScaler()\n",
        "X_two_features = scaler.fit_transform(dfICU_two_features)\n",
        "\n",
        "# Fit PCA\n",
        "pca_two_features = PCA(n_components=2)\n",
        "pca_two_features.fit(X_two_features)\n",
        "\n",
        "# Print principal components\n",
        "print(pca_two_features.components_)\n",
        "\n",
        "# Print explained variance\n",
        "print(pca_two_features.explained_variance_)\n"
      ]
    },
    {
      "cell_type": "code",
      "execution_count": 69,
      "metadata": {
        "id": "TIeHykZzTBXc"
      },
      "outputs": [
        {
          "data": {
            "text/plain": [
              "Text(0, 0, '')"
            ]
          },
          "execution_count": 69,
          "metadata": {},
          "output_type": "execute_result"
        },
        {
          "data": {
            "image/png": "[encoded data removed]",
            "text/plain": [
              "<Figure size 400x400 with 1 Axes>"
            ]
          },
          "metadata": {},
          "output_type": "display_data"
        }
      ],
      "source": [
        "## Scatter plot of heart rate and temperature along with the PC vectors\n",
        "fig, ax = plt.subplots(1, 1, figsize = (4, 4))\n",
        "fig.tight_layout(pad = 4.0)\n",
        "ax.scatter( ?,?, s = 4.0, alpha = 0.2, color = 'red')\n",
        "arrowprops = dict(arrowstyle = '->', linewidth = 2, shrinkA = 0, shrinkB = 0)\n",
        "ax.annotate('', xy = (pca.components_[0, 0], pca.components_[1, 0]), xytext = (0, 0), arrowprops = arrowprops)\n",
        "ax.annotate('', xy = (pca.components_[0, 1], pca.components_[1, 1]), xytext = (0, 0), arrowprops = arrowprops)"
      ]
    }
  ],
  "metadata": {
    "colab": {
      "provenance": []
    },
    "kernelspec": {
      "display_name": "Python 3",
      "name": "python3"
    },
    "language_info": {
      "codemirror_mode": {
        "name": "ipython",
        "version": 3
      },
      "file_extension": ".py",
      "mimetype": "text/x-python",
      "name": "python",
      "nbconvert_exporter": "python",
      "pygments_lexer": "ipython3",
      "version": "3.11.0"
    }
  },
  "nbformat": 4,
  "nbformat_minor": 0
}

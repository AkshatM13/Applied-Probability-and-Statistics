{
  "nbformat": 4,
  "nbformat_minor": 0,
  "metadata": {
    "colab": {
      "provenance": []
    },
    "kernelspec": {
      "display_name": "Python 3",
      "name": "python3"
    }
  },
  "cells": [
    {
      "cell_type": "markdown",
      "source": [
        "---\n",
        "\n",
        "**Load essential libraries**\n",
        "\n",
        "---"
      ],
      "metadata": {
        "id": "UVQzMgj6F2w_"
      }
    },
    {
      "cell_type": "code",
      "metadata": {
        "id": "b_hN0a9Rem7K"
      },
      "source": [
        "## Load modules\n",
        "\n",
        "# Standard modules\n",
        "import pandas as pd\n",
        "import numpy as np\n",
        "import sys\n",
        "from scipy.stats import gaussian_kde\n",
        "from scipy.stats import norm, t\n",
        "\n",
        "# Plotting modules\n",
        "import matplotlib.pyplot as plt\n",
        "import matplotlib.cm as cm\n",
        "from mpl_toolkits.mplot3d import Axes3D\n",
        "plt.style.use('dark_background')\n",
        "%matplotlib inline\n",
        "plt.rcParams['figure.figsize'] = (4.0, 4.0) # set default size of plots\n",
        "\n",
        "pd.options.display.max_columns = None"
      ],
      "execution_count": null,
      "outputs": []
    },
    {
      "cell_type": "markdown",
      "source": [
        "---\n",
        "\n",
        "Simulate and plot histograms of patient heart rates\n",
        "\n",
        "---"
      ],
      "metadata": {
        "id": "TjeGvyCtlHHH"
      }
    },
    {
      "cell_type": "code",
      "source": [
        "# Simulate heart rate data\n",
        "nsamples = 100\n",
        "heart_rate = np.random.normal(70, 10, nsamples)  # Mean = 70 bpm, std = 10\n",
        "\n",
        "# Create histogram data for heart rate\n",
        "hist, bin_edges = np.histogram(heart_rate, bins = 8)\n",
        "\n",
        "# Bin centers\n",
        "bin_centers = (bin_edges[:-1] + bin_edges[1:]) / 2\n",
        "bin_width = np.diff(bin_edges)\n",
        "\n",
        "# Figure object for histograms\n",
        "fig, axs = plt.subplots(1, 3, figsize=(18, 5))\n",
        "\n",
        "# Frequency histogram\n",
        "axs[0].bar(bin_centers, hist, width=bin_width, color='blue', edgecolor = 'black', alpha=0.7)\n",
        "axs[0].set_title('Frequency')\n",
        "axs[0].set_xlabel('Heart Rate (bpm)')\n",
        "axs[0].set_ylabel('Frequency')\n",
        "\n",
        "# Relative frequency histogram\n",
        "relative_freq = hist / hist.sum()  # Normalized for relative frequency\n",
        "axs[1].bar(bin_centers, relative_freq, width=bin_width, color='green', edgecolor = 'black', alpha=0.7)\n",
        "axs[1].set_title('Relative Frequency')\n",
        "axs[1].set_xlabel('Heart Rate (bpm)')\n",
        "axs[1].set_ylabel('Relative Frequency')\n",
        "\n",
        "# Density histogram\n",
        "density = hist / (np.sum(hist) * bin_width)  # Normalize for density\n",
        "axs[2].bar(bin_centers, density, width=bin_width, color='red', edgecolor = 'black', alpha=0.7)\n",
        "axs[2].set_title('Density')\n",
        "axs[2].set_xlabel('Heart Rate (bpm)')\n",
        "axs[2].set_ylabel('Density')\n",
        "\n",
        "kde = gaussian_kde(heart_rate, bw_method=0.3)  # Kernel Density Estimate\n",
        "x_range = np.linspace(min(heart_rate), max(heart_rate), 1000)\n",
        "density_curve = kde(x_range)\n",
        "\n",
        "axs[2].plot(x_range, density_curve, color='white', linewidth=2, label='Density Curve')  # Overlaying the curve\n",
        "axs[2].legend()\n",
        "\n",
        "plt.tight_layout()\n",
        "plt.show()"
      ],
      "metadata": {
        "id": "HZa9vnq_lExF"
      },
      "execution_count": null,
      "outputs": []
    },
    {
      "cell_type": "markdown",
      "source": [
        "---\n",
        "\n",
        "Draw density curve over a randomly selected sample\n",
        "\n",
        "---"
      ],
      "metadata": {
        "id": "MTSeZ2g3nbr3"
      }
    },
    {
      "cell_type": "code",
      "source": [
        "## Draw density curve over a randomly selected sample\n",
        "centre_sample = np.random.choice(heart_rate)\n",
        "\n",
        "# Neighborhood density (standard deviation)\n",
        "sigma = 5\n",
        "\n",
        "# Generate Gaussian curve (based on the selected center and neighborhood density)\n",
        "x_range = np.linspace(min(heart_rate), max(heart_rate), 1000)\n",
        "gaussian_curve = norm.pdf(x_range, centre_sample, sigma)  # Gaussian PDF centered at 'mu' with std 'sigma'\n",
        "\n",
        "# Normalize the Gaussian curve to match the scale of the histogram and plot\n",
        "gaussian_curve_normalized = gaussian_curve / np.max(gaussian_curve) * np.max(density)\n",
        "\n",
        "fig, ax = plt.subplots(figsize=(4, 4))\n",
        "ax.plot(x_range, gaussian_curve_normalized, color='yellow', linewidth=1)\n",
        "ax.scatter(heart_rate, np.zeros_like(heart_rate), color='red', marker='o', s=10, alpha=0.6)\n",
        "\n",
        "plt.tight_layout()\n",
        "plt.show()"
      ],
      "metadata": {
        "id": "ScUkher-mvqi"
      },
      "execution_count": null,
      "outputs": []
    },
    {
      "cell_type": "markdown",
      "source": [
        "---\n",
        "\n",
        "Calculate similarity of selected centered sample with other samples\n",
        "\n",
        "---"
      ],
      "metadata": {
        "id": "9-pkLQ2pohhr"
      }
    },
    {
      "cell_type": "code",
      "source": [
        "## Calculate similarity of selected centered sample with other samples\n",
        "def gaussian_similarity(xi, xj, sigma):\n",
        "    return np.exp(-((xi - xj) ** 2) / (2 * sigma ** 2))\n",
        "\n",
        "similarities = np.array([gaussian_similarity(centre_sample, x, sigma) for x in heart_rate])"
      ],
      "metadata": {
        "id": "nCH1IY11pBdB"
      },
      "execution_count": null,
      "outputs": []
    },
    {
      "cell_type": "code",
      "source": [
        "similarities"
      ],
      "metadata": {
        "id": "fx-LAFtNxvU-"
      },
      "execution_count": null,
      "outputs": []
    },
    {
      "cell_type": "markdown",
      "source": [
        "---\n",
        "\n",
        "Simulate and plot histograms of patient heart rates and blood pressures\n",
        "\n",
        "---"
      ],
      "metadata": {
        "id": "ojljnCdqhcd3"
      }
    },
    {
      "cell_type": "code",
      "source": [
        "## Simulate and plot histograms of patient heart rates and blood pressures\n",
        "nsamples = 1000\n",
        "heart_rate = np.random.normal(70, 10, nsamples)  # Mean = 70 bpm, std = 10\n",
        "blood_pressure = np.random.normal(120, 15, nsamples)  # Mean = 120 mmHg, std = 15\n",
        "\n",
        "# Create 2D histogram data\n",
        "hist, xedges, yedges = np.histogram2d(heart_rate, blood_pressure, bins = 8)\n",
        "\n",
        "# Grid for plotting\n",
        "xpos, ypos = np.meshgrid(xedges[:-1] + 0.25, yedges[:-1] + 0.25, indexing=\"ij\")\n",
        "xpos = xpos.ravel()\n",
        "ypos = ypos.ravel()\n",
        "zpos = 0\n",
        "\n",
        "# Width and depth of bars\n",
        "dx = dy = 0.5 * np.ones_like(zpos)\n",
        "dz = hist.ravel()\n",
        "\n",
        "# Figure object for histograms\n",
        "fig = plt.figure(figsize=(18, 5))\n",
        "\n",
        "# Frequency histogram\n",
        "ax1 = fig.add_subplot(131, projection='3d')\n",
        "ax1.bar3d(xpos, ypos, zpos, dx, dy, dz, zsort='average', cmap='Blues')\n",
        "ax1.set_title('Frequency')\n",
        "ax1.set_xlabel('Heart Rate (bpm)')\n",
        "ax1.set_ylabel('Blood Pressure (mmHg)')\n",
        "ax1.set_zlabel('Frequency Histogram')\n",
        "\n",
        "# Adjust x and y ticks to match bin edges\n",
        "ax1.set_xticks(xedges)\n",
        "ax1.set_yticks(yedges)\n",
        "ax1.grid(True)\n",
        "\n",
        "# Relative frequency histogram\n",
        "dz_rel = dz / dz.sum()  # Normalized for relative frequency\n",
        "ax2 = fig.add_subplot(132, projection='3d')\n",
        "ax2.bar3d(xpos, ypos, zpos, dx, dy, dz_rel, zsort='average', cmap='Greens')\n",
        "ax2.set_title('Relative Frequency')\n",
        "ax2.set_xlabel('Heart Rate (bpm)')\n",
        "ax2.set_ylabel('Blood Pressure (mmHg)')\n",
        "ax2.set_zlabel('Relative Frequency Histogram')\n",
        "\n",
        "# Adjust x and y ticks to match bin edges\n",
        "ax2.set_xticks(xedges)\n",
        "ax2.set_yticks(yedges)\n",
        "ax2.grid(True)\n",
        "\n",
        "# Density histogram\n",
        "dz_density = dz / (np.sum(dz) * (xedges[1] - xedges[0]) * (yedges[1] - yedges[0]))  # Normalize for density\n",
        "ax3 = fig.add_subplot(133, projection='3d')\n",
        "ax3.bar3d(xpos, ypos, zpos, dx, dy, dz_density, zsort='average', cmap='Reds')\n",
        "ax3.set_title('3D Density')\n",
        "ax3.set_xlabel('Heart Rate (bpm)')\n",
        "ax3.set_ylabel('Blood Pressure (mmHg)')\n",
        "ax3.set_zlabel('Density Histogram')\n",
        "\n",
        "# Adjust x and y ticks to match bin edges\n",
        "ax3.set_xticks(xedges)\n",
        "ax3.set_yticks(yedges)\n",
        "ax3.grid(True)\n",
        "\n",
        "plt.tight_layout()\n",
        "plt.show()"
      ],
      "metadata": {
        "id": "YgL1xhwGhhAu"
      },
      "execution_count": null,
      "outputs": []
    }
  ]
}